{
  "nbformat": 4,
  "nbformat_minor": 0,
  "metadata": {
    "colab": {
      "provenance": [],
      "toc_visible": true
    },
    "kernelspec": {
      "name": "python3",
      "display_name": "Python 3"
    },
    "language_info": {
      "name": "python"
    }
  },
  "cells": [
    {
      "cell_type": "markdown",
      "source": [
        "# Download and Pre-process the Dataset"
      ],
      "metadata": {
        "id": "3Aq7C1ZDrno7"
      }
    },
    {
      "cell_type": "code",
      "source": [
        "import pandas as pd"
      ],
      "metadata": {
        "id": "J5UdpuEjr4uU"
      },
      "execution_count": 1,
      "outputs": []
    },
    {
      "cell_type": "code",
      "source": [
        "from google.colab import drive\n",
        "drive.mount('/content/drive')"
      ],
      "metadata": {
        "colab": {
          "base_uri": "https://localhost:8080/"
        },
        "id": "Dd-6fAuVr_jc",
        "outputId": "2ea3bd3e-1b81-4b6d-c900-18a3e8587002"
      },
      "execution_count": 2,
      "outputs": [
        {
          "output_type": "stream",
          "name": "stdout",
          "text": [
            "Mounted at /content/drive\n"
          ]
        }
      ]
    },
    {
      "cell_type": "code",
      "source": [
        "!pip install -q parlai\n",
        "import parlai"
      ],
      "metadata": {
        "id": "Y9ijr8EAr1J8"
      },
      "execution_count": null,
      "outputs": []
    },
    {
      "cell_type": "code",
      "source": [
        "from parlai.tasks.image_chat.build import build\n",
        "\n",
        "datapath='/content/drive/MyDrive/Project_Bias_Meta_paper/'\n",
        "opt = {'datapath': datapath}\n",
        "build(opt)"
      ],
      "metadata": {
        "id": "tSQImGF5sav-"
      },
      "execution_count": null,
      "outputs": []
    },
    {
      "cell_type": "code",
      "source": [
        "train_df = pd.read_json('/content/drive/MyDrive/Project_Bias_Meta_paper/image_chat/train.json')"
      ],
      "metadata": {
        "id": "aPFnxapCsmB4"
      },
      "execution_count": 3,
      "outputs": []
    },
    {
      "cell_type": "code",
      "source": [
        "# train_df['dialog'][0]"
      ],
      "metadata": {
        "colab": {
          "base_uri": "https://localhost:8080/"
        },
        "id": "-2GBjqe8t34t",
        "outputId": "5b4c0746-083f-44a4-d2ac-206e43047662"
      },
      "execution_count": 21,
      "outputs": [
        {
          "output_type": "execute_result",
          "data": {
            "text/plain": [
              "[['Appreciative (Grateful)', 'home sweet home'],\n",
              " ['Glamorous', 'in my big house'],\n",
              " ['Appreciative (Grateful)', 'Its a house, so like it']]"
            ]
          },
          "metadata": {},
          "execution_count": 21
        }
      ]
    },
    {
      "cell_type": "code",
      "source": [
        "# len(train_df)"
      ],
      "metadata": {
        "colab": {
          "base_uri": "https://localhost:8080/"
        },
        "id": "Hq-H27u7u2_Y",
        "outputId": "332ac1dc-d6c2-4594-eb24-e776ef228200"
      },
      "execution_count": 22,
      "outputs": [
        {
          "output_type": "execute_result",
          "data": {
            "text/plain": [
              "186782"
            ]
          },
          "metadata": {},
          "execution_count": 22
        }
      ]
    },
    {
      "cell_type": "code",
      "source": [
        "# count_3turn_instances = train_df['dialog'].apply(lambda x: len(x) == 3).sum()\n",
        "# count_3turn_instances"
      ],
      "metadata": {
        "colab": {
          "base_uri": "https://localhost:8080/"
        },
        "id": "vhdvoAQqu53F",
        "outputId": "ea13a7bd-82f8-4654-831f-37fe31c837f6"
      },
      "execution_count": 23,
      "outputs": [
        {
          "output_type": "execute_result",
          "data": {
            "text/plain": [
              "84540"
            ]
          },
          "metadata": {},
          "execution_count": 23
        }
      ]
    },
    {
      "cell_type": "code",
      "source": [
        "# count_2turn_instances = train_df['dialog'].apply(lambda x: len(x) == 2).sum()\n",
        "# count_2turn_instances"
      ],
      "metadata": {
        "colab": {
          "base_uri": "https://localhost:8080/"
        },
        "id": "--DfykXCwK_F",
        "outputId": "0ef3b86d-b432-431b-ba0e-f925de4a93f2"
      },
      "execution_count": 24,
      "outputs": [
        {
          "output_type": "execute_result",
          "data": {
            "text/plain": [
              "0"
            ]
          },
          "metadata": {},
          "execution_count": 24
        }
      ]
    },
    {
      "cell_type": "code",
      "source": [
        "# count_1turn_instances = train_df['dialog'].apply(lambda x: len(x) == 1).sum()\n",
        "# count_1turn_instances"
      ],
      "metadata": {
        "colab": {
          "base_uri": "https://localhost:8080/"
        },
        "id": "SKjXyMwAwOuM",
        "outputId": "d4db8326-e95a-461e-a123-3ae46c4317a5"
      },
      "execution_count": 25,
      "outputs": [
        {
          "output_type": "execute_result",
          "data": {
            "text/plain": [
              "102242"
            ]
          },
          "metadata": {},
          "execution_count": 25
        }
      ]
    },
    {
      "cell_type": "code",
      "source": [
        "df_train_1turn_instances = train_df[train_df['dialog'].apply(lambda x: len(x) == 1)]\n",
        "df_train_1turn_instances = df_train_1turn_instances.reset_index(drop=True)"
      ],
      "metadata": {
        "id": "O47RQEaWyUd2"
      },
      "execution_count": 10,
      "outputs": []
    },
    {
      "cell_type": "code",
      "source": [
        "df_train_1turn_instances['dialog'] = df_train_1turn_instances['dialog'].apply(lambda x: [(item[1], item[0]) for item in x])\n",
        "df_train_1turn_instances['dialog'] = df_train_1turn_instances['dialog'].explode()"
      ],
      "metadata": {
        "id": "QSCFYfgI04BI"
      },
      "execution_count": 11,
      "outputs": []
    },
    {
      "cell_type": "code",
      "source": [
        "ls_train_1turn_dialogs = df_train_1turn_instances['dialog'].tolist()"
      ],
      "metadata": {
        "id": "karN3yAs7zDp"
      },
      "execution_count": 13,
      "outputs": []
    },
    {
      "cell_type": "markdown",
      "source": [
        "# Load the Styles (Classes)"
      ],
      "metadata": {
        "id": "ToJheQ6IAAmR"
      }
    },
    {
      "cell_type": "code",
      "source": [
        "import json\n",
        "\n",
        "with open('/content/drive/MyDrive/Project_Bias_Meta_paper/image_chat/personalities.json', 'r') as personalities_file:\n",
        "    personalities = json.load(personalities_file)"
      ],
      "metadata": {
        "id": "kxSegsxGB5Wa"
      },
      "execution_count": 20,
      "outputs": []
    },
    {
      "cell_type": "code",
      "source": [
        "ls_personalities = [item for sublist in personalities.values() for item in sublist]"
      ],
      "metadata": {
        "id": "Ly8jmbu6DfBR"
      },
      "execution_count": 21,
      "outputs": []
    },
    {
      "cell_type": "code",
      "source": [
        "# len(ls_personalities)"
      ],
      "metadata": {
        "colab": {
          "base_uri": "https://localhost:8080/"
        },
        "id": "UCa-ny23E2Xe",
        "outputId": "d8db85b9-7759-484e-e44b-b5bf2f8728a3"
      },
      "execution_count": 23,
      "outputs": [
        {
          "output_type": "execute_result",
          "data": {
            "text/plain": [
              "215"
            ]
          },
          "metadata": {},
          "execution_count": 23
        }
      ]
    },
    {
      "cell_type": "code",
      "source": [
        "ls_personalities.append(\"Crude\")\n",
        "ls_personalities.append(\"Earnest\")"
      ],
      "metadata": {
        "id": "8RKPbaJsFU5o"
      },
      "execution_count": 24,
      "outputs": []
    },
    {
      "cell_type": "markdown",
      "source": [
        "# Build the Classifier"
      ],
      "metadata": {
        "id": "1Auz2gPRrxLF"
      }
    },
    {
      "cell_type": "code",
      "source": [
        "import nltk\n",
        "from nltk.corpus import stopwords\n",
        "from nltk.tokenize import word_tokenize\n",
        "from nltk.classify import NaiveBayesClassifier\n",
        "from nltk.classify.util import accuracy"
      ],
      "metadata": {
        "id": "KeLDxT44qEqz"
      },
      "execution_count": 27,
      "outputs": []
    },
    {
      "cell_type": "code",
      "source": [
        "nltk.download('stopwords')\n",
        "nltk.download('punkt')"
      ],
      "metadata": {
        "colab": {
          "base_uri": "https://localhost:8080/"
        },
        "id": "n1oBvQrJqG7c",
        "outputId": "031302bf-343f-4dd7-ecb0-45cf0b20e80e"
      },
      "execution_count": 28,
      "outputs": [
        {
          "output_type": "stream",
          "name": "stderr",
          "text": [
            "[nltk_data] Downloading package stopwords to /root/nltk_data...\n",
            "[nltk_data]   Unzipping corpora/stopwords.zip.\n",
            "[nltk_data] Downloading package punkt to /root/nltk_data...\n",
            "[nltk_data]   Unzipping tokenizers/punkt.zip.\n"
          ]
        },
        {
          "output_type": "execute_result",
          "data": {
            "text/plain": [
              "True"
            ]
          },
          "metadata": {},
          "execution_count": 28
        }
      ]
    },
    {
      "cell_type": "code",
      "source": [
        "stop_words = set(stopwords.words('english'))"
      ],
      "metadata": {
        "id": "ZIzhfggfqJ5r"
      },
      "execution_count": 29,
      "outputs": []
    },
    {
      "cell_type": "code",
      "source": [
        "def preprocess_text(text):\n",
        "    words = word_tokenize(text)\n",
        "    filtered_words = [word.lower() for word in words if word.isalnum() and word.lower() not in stop_words]\n",
        "    return dict([(word, True) for word in filtered_words])"
      ],
      "metadata": {
        "id": "zf0XqF7fqLEd"
      },
      "execution_count": 30,
      "outputs": []
    },
    {
      "cell_type": "code",
      "source": [
        "train_size = int(0.8 * len(ls_train_1turn_dialogs))\n",
        "train_set, test_set = ls_train_1turn_dialogs[:train_size], ls_train_1turn_dialogs[train_size:]"
      ],
      "metadata": {
        "id": "ICkoeha6qQQV"
      },
      "execution_count": 31,
      "outputs": []
    },
    {
      "cell_type": "code",
      "source": [
        "classifier = NaiveBayesClassifier.train([(preprocess_text(text), label) for text, label in train_set])"
      ],
      "metadata": {
        "id": "2IIO-gy0qSy_"
      },
      "execution_count": 32,
      "outputs": []
    },
    {
      "cell_type": "code",
      "source": [
        "# Evaluate the classifier\n",
        "accuracy_score = accuracy(classifier, [(preprocess_text(text), label) for text, label in test_set])\n",
        "print(f\"Accuracy: {accuracy_score:.2%}\")"
      ],
      "metadata": {
        "colab": {
          "base_uri": "https://localhost:8080/"
        },
        "id": "HOZPZzS-qVeC",
        "outputId": "79450590-c399-4ceb-d121-ab7b2b9c2fe6"
      },
      "execution_count": 33,
      "outputs": [
        {
          "output_type": "stream",
          "name": "stdout",
          "text": [
            "Accuracy: 1.07%\n"
          ]
        }
      ]
    },
    {
      "cell_type": "code",
      "source": [
        "# Make predictions with probability estimates\n",
        "new_text = \"Something about the pattern calms me\"\n",
        "probabilities = classifier.prob_classify(preprocess_text(new_text))"
      ],
      "metadata": {
        "id": "_LuHvj9uqW8P"
      },
      "execution_count": 34,
      "outputs": []
    },
    {
      "cell_type": "code",
      "execution_count": 35,
      "metadata": {
        "colab": {
          "base_uri": "https://localhost:8080/"
        },
        "id": "ZzfL60ufp_oT",
        "outputId": "8f1f868b-25e7-4864-e2f3-e9d0709fe558"
      },
      "outputs": [
        {
          "output_type": "stream",
          "name": "stdout",
          "text": [
            "Probability for Discouraging: 0.02%\n",
            "Probability for Empathetic: 0.15%\n",
            "Probability for Destructive: 0.04%\n",
            "Probability for Escapist (Dreamer, Seeks Distraction): 0.15%\n",
            "Probability for Rational: 0.24%\n",
            "Probability for Tough: 0.02%\n",
            "Probability for Scornful: 0.06%\n",
            "Probability for Considerate: 0.02%\n",
            "Probability for Sweet: 0.02%\n",
            "Probability for Earnest (Enthusiastic): 0.05%\n",
            "Probability for Rustic (Rural): 0.26%\n",
            "Probability for Absentminded: 0.11%\n",
            "Probability for Neurotic (Manic, Obsessive): 0.09%\n",
            "Probability for Artificial: 0.03%\n",
            "Probability for Romantic: 0.03%\n",
            "Probability for Conceited (Arrogant, Egotistical): 0.08%\n",
            "Probability for Daring: 0.10%\n",
            "Probability for Erratic: 0.08%\n",
            "Probability for Businesslike: 0.05%\n",
            "Probability for Vacuous (Empty, Unintelligent): 0.10%\n",
            "Probability for Wishful: 0.07%\n",
            "Probability for Opinionated: 0.21%\n",
            "Probability for Impersonal: 0.05%\n",
            "Probability for Colorful (Full of Life, Interesting): 0.04%\n",
            "Probability for Dry: 0.04%\n",
            "Probability for Sensitive: 0.28%\n",
            "Probability for Eloquent (Well-spoken, Expressive): 0.12%\n",
            "Probability for High-spirited: 0.03%\n",
            "Probability for Profound: 0.06%\n",
            "Probability for Fiery: 0.05%\n",
            "Probability for Serious: 0.07%\n",
            "Probability for Artful: 0.13%\n",
            "Probability for Scholarly: 0.04%\n",
            "Probability for Irrational: 0.04%\n",
            "Probability for Envious: 0.13%\n",
            "Probability for Sentimental: 0.01%\n",
            "Probability for Outrageous: 0.08%\n",
            "Probability for Uncreative: 0.11%\n",
            "Probability for Sympathetic: 0.07%\n",
            "Probability for Frightening: 0.07%\n",
            "Probability for Moody: 0.26%\n",
            "Probability for Clever: 0.08%\n",
            "Probability for Youthful: 0.07%\n",
            "Probability for Shy: 0.03%\n",
            "Probability for Extreme: 0.03%\n",
            "Probability for Arrogant: 0.10%\n",
            "Probability for Odd: 0.07%\n",
            "Probability for Narcissistic (Self-centered, Egotistical): 0.02%\n",
            "Probability for Dreamy: 0.10%\n",
            "Probability for Cultured (Refined, Educated): 0.06%\n",
            "Probability for Meticulous (Precise, Thorough): 0.04%\n",
            "Probability for Adventurous: 0.15%\n",
            "Probability for Tense: 0.07%\n",
            "Probability for Abrasive (Annoying, Irritating): 0.02%\n",
            "Probability for Argumentative: 0.05%\n",
            "Probability for Rowdy: 0.09%\n",
            "Probability for Cute: 0.03%\n",
            "Probability for Formal: 0.04%\n",
            "Probability for Resentful: 0.08%\n",
            "Probability for Coarse (Not Fine, Crass): 0.04%\n",
            "Probability for Conservative (Traditional, Conventional): 0.01%\n",
            "Probability for Charming: 0.07%\n",
            "Probability for Calm: 0.06%\n",
            "Probability for Anxious: 0.17%\n",
            "Probability for Emotional: 0.20%\n",
            "Probability for Curious: 0.10%\n",
            "Probability for Frivolous (Trivial, Silly): 0.02%\n",
            "Probability for Pretentious (Snobbish, Showy): 0.08%\n",
            "Probability for Melancholic: 0.04%\n",
            "Probability for Observant: 0.15%\n",
            "Probability for Monstrous: 0.09%\n",
            "Probability for Foolish: 0.04%\n",
            "Probability for Practical: 0.03%\n",
            "Probability for Irritable: 0.04%\n",
            "Probability for Fatalistic (Bleak, Gloomy): 0.02%\n",
            "Probability for Reflective: 0.20%\n",
            "Probability for Honest: 0.02%\n",
            "Probability for Rigid: 0.03%\n",
            "Probability for Peaceful: 0.20%\n",
            "Probability for Spirited: 0.09%\n",
            "Probability for Silly: 0.02%\n",
            "Probability for Neutral: 0.05%\n",
            "Probability for Confused: 0.04%\n",
            "Probability for Zany: 0.03%\n",
            "Probability for Boyish: 0.05%\n",
            "Probability for Blunt: 0.04%\n",
            "Probability for Enigmatic (Cryptic, Obscure): 0.71%\n",
            "Probability for Playful: 0.06%\n",
            "Probability for Bizarre: 0.05%\n",
            "Probability for Sophisticated: 0.12%\n",
            "Probability for Bland: 0.19%\n",
            "Probability for Gentle: 0.05%\n",
            "Probability for Brilliant: 0.09%\n",
            "Probability for Quirky: 0.08%\n",
            "Probability for Stoic (Unemotional, Matter-of-fact): 0.23%\n",
            "Probability for Grand: 0.02%\n",
            "Probability for Kind: 0.05%\n",
            "Probability for Elegant: 0.05%\n",
            "Probability for Confident: 0.06%\n",
            "Probability for Devious: 0.13%\n",
            "Probability for Vague: 0.70%\n",
            "Probability for Knowledgeable: 0.20%\n",
            "Probability for Excitable: 0.05%\n",
            "Probability for Stylish: 0.23%\n",
            "Probability for Fearful: 0.14%\n",
            "Probability for Sensual: 0.04%\n",
            "Probability for Solemn: 0.03%\n",
            "Probability for Angry: 0.03%\n",
            "Probability for Perceptive: 0.20%\n",
            "Probability for Energetic: 0.17%\n",
            "Probability for Freethinking: 0.03%\n",
            "Probability for Imaginative: 0.16%\n",
            "Probability for Haughty (Arrogant, Snobbish): 0.07%\n",
            "Probability for Exciting: 0.10%\n",
            "Probability for Barbaric: 0.03%\n",
            "Probability for Questioning: 0.05%\n",
            "Probability for Humorous: 0.04%\n",
            "Probability for Mellow (Soothing, Sweet): 0.36%\n",
            "Probability for Compassionate (Sympathetic, Warm): 0.04%\n",
            "Probability for Offhand: 0.04%\n",
            "Probability for Hateful: 0.17%\n",
            "Probability for Suave (Charming, Smooth): 0.02%\n",
            "Probability for Money-minded: 0.03%\n",
            "Probability for Relaxed: 0.26%\n",
            "Probability for Simple: 0.02%\n",
            "Probability for Glamorous: 0.20%\n",
            "Probability for Humble: 0.12%\n",
            "Probability for Paranoid: 0.29%\n",
            "Probability for Contradictory: 0.06%\n",
            "Probability for Wise: 0.08%\n",
            "Probability for Assertive: 0.01%\n",
            "Probability for Bewildered (Astonished, Confused): 0.07%\n",
            "Probability for Crazy: 0.04%\n",
            "Probability for Boisterous (Rowdy, Loud): 0.05%\n",
            "Probability for Contemptible (Despicable, Vile): 0.04%\n",
            "Probability for Spontaneous: 0.04%\n",
            "Probability for Overimaginative: 0.14%\n",
            "Probability for Stupid: 0.10%\n",
            "Probability for Fawning (Flattering, Deferential): 0.16%\n",
            "Probability for Aloof (Detached, Distant): 0.07%\n",
            "Probability for Aggressive: 0.05%\n",
            "Probability for Caring: 0.04%\n",
            "Probability for Vivacious (Lively, Animated): 0.04%\n",
            "Probability for Appreciative (Grateful): 0.01%\n",
            "Probability for Mystical: 0.06%\n",
            "Probability for Childish: 0.13%\n",
            "Probability for Extraordinary: 0.06%\n",
            "Probability for Witty: 0.08%\n",
            "Probability for Intense: 0.04%\n",
            "Probability for Nihilistic: 0.06%\n",
            "Probability for Happy: 0.02%\n",
            "Probability for Contemplative (Reflective, Thoughtful): 0.07%\n",
            "Probability for Articulate (Well-spoken, Expressive): 0.20%\n",
            "Probability for Realistic: 0.06%\n",
            "Probability for Skeptical: 0.10%\n",
            "Probability for Hostile: 0.17%\n",
            "Probability for Old-fashioned: 0.03%\n",
            "Probability for Complex: 0.16%\n",
            "Probability for Provocative: 0.21%\n",
            "Probability for Enthusiastic: 0.04%\n",
            "Probability for Airy (Casual, Not Serious): 0.05%\n",
            "Probability for Cruel: 0.07%\n",
            "Probability for Respectful: 0.01%\n",
            "Probability for Captivating: 0.07%\n",
            "Probability for Creative: 0.13%\n",
            "Probability for Extravagant: 0.28%\n",
            "Probability for Open: 0.04%\n",
            "Probability for Idealistic: 0.12%\n",
            "Probability for Disturbing: 0.05%\n",
            "Probability for Fanatical: 0.08%\n",
            "Probability for Ridiculous: 0.25%\n",
            "Probability for Passionate: 0.08%\n",
            "Probability for Whimsical (Playful, Fanciful): 0.02%\n",
            "Probability for Amusing: 0.22%\n",
            "Probability for Fun-loving: 0.03%\n",
            "Probability for Passive: 0.09%\n",
            "Probability for Unimaginative: 0.19%\n",
            "Probability for Patriotic: 0.02%\n",
            "Probability for Obnoxious: 0.06%\n",
            "Probability for Unrealistic: 0.03%\n",
            "Probability for Grim: 0.07%\n",
            "Probability for Apathetic (Uncaring, Disinterested): 0.07%\n",
            "Probability for Malicious: 0.10%\n",
            "Probability for Breezy (Relaxed, Informal): 0.01%\n",
            "Probability for Critical: 0.13%\n",
            "Probability for Intelligent: 0.12%\n",
            "Probability for Egocentric (Self-centered): 0.07%\n",
            "Probability for Fanciful: 0.07%\n",
            "Probability for Lazy: 0.05%\n",
            "Probability for Courageous: 0.04%\n",
            "Probability for Pompous (Self-important, Arrogant): 0.16%\n",
            "Probability for Dull: 0.04%\n",
            "Probability for Obsessive: 0.33%\n",
            "Probability for Casual: 0.03%\n",
            "Probability for Dramatic: 0.11%\n",
            "Probability for Cold: 0.06%\n",
            "Probability for Optimistic: 0.05%\n",
            "Probability for Attractive: 0.09%\n",
            "Probability for Objective (Detached, Impartial): 0.06%\n",
            "Probability for Cerebral (Intellectual, Logical): 0.17%\n",
            "Probability for Sarcastic: 0.27%\n",
            "Probability for Cheerful: 0.22%\n",
            "Probability for Fickle (Changeable, Temperamental): 0.04%\n",
            "Probability for Warm: 0.08%\n",
            "Probability for Ordinary: 0.16%\n",
            "Probability for Cowardly: 0.08%\n",
            "Probability for Gloomy: 0.04%\n",
            "Probability for Maternal (Mother-like): 0.07%\n",
            "Probability for Miserable: 0.04%\n",
            "Probability for Deep: 0.09%\n",
            "Probability for Cynical (Doubtful, Skeptical): 0.03%\n",
            "Probability for Stiff: 0.02%\n",
            "Probability for Morbid: 0.06%\n",
            "Probability for Insightful: 0.07%\n",
            "Probability for Logical: 0.17%\n",
            "Probability for Crude: 79.97%\n"
          ]
        }
      ],
      "source": [
        "# Display probability estimates for each class\n",
        "for label in classifier.labels():\n",
        "    print(f\"Probability for {label}: {probabilities.prob(label):.2%}\")"
      ]
    },
    {
      "cell_type": "code",
      "source": [
        "prediction = classifier.classify(preprocess_text(new_text))\n",
        "print(f\"Predicted style: {prediction}\")"
      ],
      "metadata": {
        "colab": {
          "base_uri": "https://localhost:8080/"
        },
        "id": "lXzTBrnbHRUK",
        "outputId": "841bfcd0-458e-4819-cdfd-9a69d1db1503"
      },
      "execution_count": 36,
      "outputs": [
        {
          "output_type": "stream",
          "name": "stdout",
          "text": [
            "Predicted style: Crude\n"
          ]
        }
      ]
    }
  ]
}